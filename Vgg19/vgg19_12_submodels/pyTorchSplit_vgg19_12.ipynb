{
  "cells": [
    {
      "cell_type": "code",
      "execution_count": 14,
      "metadata": {
        "id": "epvOF4tAUhRy"
      },
      "outputs": [],
      "source": [
        "from torchvision import models\n",
        "import torch\n",
        "import os\n",
        "from torch import nn\n",
        "from torch.utils.data import DataLoader\n",
        "from torchvision import datasets, transforms\n",
        "from torchsummary import summary\n",
        "from PIL import Image"
      ]
    },
    {
      "cell_type": "code",
      "execution_count": 15,
      "metadata": {
        "id": "BicJrwCBWJTN"
      },
      "outputs": [],
      "source": [
        "vgg19 = torch.load(\"vgg19.pt\")"
      ]
    },
    {
      "cell_type": "code",
      "execution_count": 16,
      "metadata": {
        "colab": {
          "base_uri": "https://localhost:8080/"
        },
        "id": "K9dY7fiWFRge",
        "outputId": "6dac6b3e-4355-4737-8862-77b3efa2aa1f"
      },
      "outputs": [
        {
          "name": "stdout",
          "output_type": "stream",
          "text": [
            "VGG(\n",
            "  (features): Sequential(\n",
            "    (0): Conv2d(3, 64, kernel_size=(3, 3), stride=(1, 1), padding=(1, 1))\n",
            "    (1): ReLU(inplace=True)\n",
            "    (2): Conv2d(64, 64, kernel_size=(3, 3), stride=(1, 1), padding=(1, 1))\n",
            "    (3): ReLU(inplace=True)\n",
            "    (4): MaxPool2d(kernel_size=2, stride=2, padding=0, dilation=1, ceil_mode=False)\n",
            "    (5): Conv2d(64, 128, kernel_size=(3, 3), stride=(1, 1), padding=(1, 1))\n",
            "    (6): ReLU(inplace=True)\n",
            "    (7): Conv2d(128, 128, kernel_size=(3, 3), stride=(1, 1), padding=(1, 1))\n",
            "    (8): ReLU(inplace=True)\n",
            "    (9): MaxPool2d(kernel_size=2, stride=2, padding=0, dilation=1, ceil_mode=False)\n",
            "    (10): Conv2d(128, 256, kernel_size=(3, 3), stride=(1, 1), padding=(1, 1))\n",
            "    (11): ReLU(inplace=True)\n",
            "    (12): Conv2d(256, 256, kernel_size=(3, 3), stride=(1, 1), padding=(1, 1))\n",
            "    (13): ReLU(inplace=True)\n",
            "    (14): Conv2d(256, 256, kernel_size=(3, 3), stride=(1, 1), padding=(1, 1))\n",
            "    (15): ReLU(inplace=True)\n",
            "    (16): Conv2d(256, 256, kernel_size=(3, 3), stride=(1, 1), padding=(1, 1))\n",
            "    (17): ReLU(inplace=True)\n",
            "    (18): MaxPool2d(kernel_size=2, stride=2, padding=0, dilation=1, ceil_mode=False)\n",
            "    (19): Conv2d(256, 512, kernel_size=(3, 3), stride=(1, 1), padding=(1, 1))\n",
            "    (20): ReLU(inplace=True)\n",
            "    (21): Conv2d(512, 512, kernel_size=(3, 3), stride=(1, 1), padding=(1, 1))\n",
            "    (22): ReLU(inplace=True)\n",
            "    (23): Conv2d(512, 512, kernel_size=(3, 3), stride=(1, 1), padding=(1, 1))\n",
            "    (24): ReLU(inplace=True)\n",
            "    (25): Conv2d(512, 512, kernel_size=(3, 3), stride=(1, 1), padding=(1, 1))\n",
            "    (26): ReLU(inplace=True)\n",
            "    (27): MaxPool2d(kernel_size=2, stride=2, padding=0, dilation=1, ceil_mode=False)\n",
            "    (28): Conv2d(512, 512, kernel_size=(3, 3), stride=(1, 1), padding=(1, 1))\n",
            "    (29): ReLU(inplace=True)\n",
            "    (30): Conv2d(512, 512, kernel_size=(3, 3), stride=(1, 1), padding=(1, 1))\n",
            "    (31): ReLU(inplace=True)\n",
            "    (32): Conv2d(512, 512, kernel_size=(3, 3), stride=(1, 1), padding=(1, 1))\n",
            "    (33): ReLU(inplace=True)\n",
            "    (34): Conv2d(512, 512, kernel_size=(3, 3), stride=(1, 1), padding=(1, 1))\n",
            "    (35): ReLU(inplace=True)\n",
            "    (36): MaxPool2d(kernel_size=2, stride=2, padding=0, dilation=1, ceil_mode=False)\n",
            "  )\n",
            "  (avgpool): AdaptiveAvgPool2d(output_size=(7, 7))\n",
            "  (classifier): Sequential(\n",
            "    (0): Linear(in_features=25088, out_features=4096, bias=True)\n",
            "    (1): ReLU(inplace=True)\n",
            "    (2): Dropout(p=0.5, inplace=False)\n",
            "    (3): Linear(in_features=4096, out_features=4096, bias=True)\n",
            "    (4): ReLU(inplace=True)\n",
            "    (5): Dropout(p=0.5, inplace=False)\n",
            "    (6): Linear(in_features=4096, out_features=1000, bias=True)\n",
            "  )\n",
            ")\n"
          ]
        }
      ],
      "source": [
        "print(vgg19)"
      ]
    },
    {
      "cell_type": "code",
      "execution_count": 17,
      "metadata": {
        "id": "Lp__pzYoWqf_"
      },
      "outputs": [],
      "source": [
        "class Flatten(nn.Module):\n",
        "    def __init__(self):\n",
        "        super(Flatten, self).__init__()\n",
        "        \n",
        "    def forward(self, x):\n",
        "        x = x.view(x.size(0), -1)\n",
        "        return x\n",
        "\n",
        "# creates a flatten layer to feed the output of the avg pool mod to the Linear mod\n",
        "submodel_flatten = nn.Sequential(Flatten())"
      ]
    },
    {
      "cell_type": "code",
      "execution_count": 18,
      "metadata": {
        "id": "egZUOf4zbP0l"
      },
      "outputs": [],
      "source": [
        "submodel_vgg_1 = list(vgg19.children())[:1]\n",
        "submodel_vgg_1 = nn.Sequential(*submodel_vgg_1)\n",
        "# print(submodel_vgg_1)"
      ]
    },
    {
      "cell_type": "code",
      "execution_count": 19,
      "metadata": {
        "id": "q6z3Fki0jMhA"
      },
      "outputs": [],
      "source": [
        "for n in submodel_vgg_1.children():\n",
        "  submodel_1 = nn.Sequential(n[:4])\n",
        "  submodel_2 = nn.Sequential(n[4:8])\n",
        "  submodel_3 = nn.Sequential(n[8:12])\n",
        "  submodel_4 = nn.Sequential(n[12:16])\n",
        "  submodel_5 = nn.Sequential(n[16:20])\n",
        "  submodel_6 = nn.Sequential(n[20:24])\n",
        "  submodel_7 = nn.Sequential(n[24:28])\n",
        "  submodel_8 = nn.Sequential(n[28:32])\n",
        "  submodel_9 = nn.Sequential(n[32:33])\n",
        "  submodel_10 = nn.Sequential(n[33:34])\n",
        "  submodel_11 = nn.Sequential(n[34:])"
      ]
    },
    {
      "cell_type": "code",
      "execution_count": 20,
      "metadata": {
        "id": "GH-RACKqfqZ3"
      },
      "outputs": [],
      "source": [
        "# extracts the avgpool layer\n",
        "submodel_avgpool = list(vgg19.children())[1:2]\n",
        "submodel_avgpool = nn.Sequential(*submodel_avgpool)"
      ]
    },
    {
      "cell_type": "code",
      "execution_count": 21,
      "metadata": {
        "id": "VF3xf9bIbtDw"
      },
      "outputs": [],
      "source": [
        "submodel_vgg_2 = list(vgg19.children())[2:]\n",
        "submodel_vgg_2 = nn.Sequential(submodel_avgpool, submodel_flatten, *submodel_vgg_2)"
      ]
    },
    {
      "cell_type": "code",
      "execution_count": 22,
      "metadata": {
        "id": "7NQlEAPVe51T"
      },
      "outputs": [],
      "source": [
        "torch.save(submodel_1, \"submodel_1.pt\")\n",
        "torch.save(submodel_2, \"submodel_2.pt\")\n",
        "torch.save(submodel_3, \"submodel_3.pt\")\n",
        "torch.save(submodel_4, \"submodel_4.pt\")\n",
        "torch.save(submodel_5, \"submodel_5.pt\")\n",
        "torch.save(submodel_6, \"submodel_6.pt\")\n",
        "torch.save(submodel_7, \"submodel_7.pt\")\n",
        "torch.save(submodel_8, \"submodel_8.pt\")\n",
        "torch.save(submodel_9, \"submodel_9.pt\")\n",
        "torch.save(submodel_10, \"submodel_10.pt\")\n",
        "torch.save(submodel_11, \"submodel_11.pt\")\n",
        "torch.save(submodel_vgg_2, \"submodel_vgg_2.pt\")"
      ]
    },
    {
      "cell_type": "code",
      "execution_count": 23,
      "metadata": {
        "id": "ukLHdxj2WQ_q"
      },
      "outputs": [],
      "source": [
        "# Prepare a transform to get the input image into a format (e.g., x,y dimensions) the classifier expects\n",
        "transform = transforms.Compose([\n",
        "    transforms.Resize(256),\n",
        "    transforms.CenterCrop(224),\n",
        "    transforms.ToTensor(),\n",
        "    transforms.Normalize(\n",
        "    mean=[0.485, 0.456, 0.406],\n",
        "    std=[0.229, 0.224, 0.225]\n",
        ")])\n",
        "\n",
        "img = Image.open(\"input.jpg\")\n",
        "\n",
        "# Apply the transform to the image.\n",
        "img_t = transform(img)\n",
        "batch_t = torch.unsqueeze(img_t, 0)\n",
        "\n",
        "with open(\"classes.txt\") as f:\n",
        "    classes = [line.strip() for line in f.readlines()]"
      ]
    },
    {
      "cell_type": "code",
      "execution_count": 24,
      "metadata": {
        "colab": {
          "base_uri": "https://localhost:8080/"
        },
        "id": "vuSZDeHgWS4d",
        "outputId": "b30a041b-a80f-4946-ab05-7fb567ac86b9"
      },
      "outputs": [
        {
          "data": {
            "text/plain": [
              "Sequential(\n",
              "  (0): Sequential(\n",
              "    (0): AdaptiveAvgPool2d(output_size=(7, 7))\n",
              "  )\n",
              "  (1): Sequential(\n",
              "    (0): Flatten()\n",
              "  )\n",
              "  (2): Sequential(\n",
              "    (0): Linear(in_features=25088, out_features=4096, bias=True)\n",
              "    (1): ReLU(inplace=True)\n",
              "    (2): Dropout(p=0.5, inplace=False)\n",
              "    (3): Linear(in_features=4096, out_features=4096, bias=True)\n",
              "    (4): ReLU(inplace=True)\n",
              "    (5): Dropout(p=0.5, inplace=False)\n",
              "    (6): Linear(in_features=4096, out_features=1000, bias=True)\n",
              "  )\n",
              ")"
            ]
          },
          "execution_count": 24,
          "metadata": {},
          "output_type": "execute_result"
        }
      ],
      "source": [
        "# vgg19.eval()\n",
        "# submodel_vgg_1.eval()\n",
        "submodel_1.eval()\n",
        "submodel_2.eval()\n",
        "submodel_3.eval()\n",
        "submodel_4.eval()\n",
        "submodel_5.eval()\n",
        "submodel_6.eval()\n",
        "submodel_7.eval()\n",
        "submodel_8.eval()\n",
        "submodel_9.eval()\n",
        "submodel_10.eval()\n",
        "submodel_11.eval()\n",
        "submodel_vgg_2.eval()"
      ]
    },
    {
      "cell_type": "code",
      "execution_count": 25,
      "metadata": {
        "id": "xGoPwfAnWUzq"
      },
      "outputs": [],
      "source": [
        "output_submodel_1 = submodel_1(batch_t)\n",
        "output_submodel_2 = submodel_2(output_submodel_1)\n",
        "output_submodel_3 = submodel_3(output_submodel_2)\n",
        "output_submodel_4 = submodel_4(output_submodel_3)\n",
        "output_submodel_5 = submodel_5(output_submodel_4)\n",
        "output_submodel_6 = submodel_6(output_submodel_5)\n",
        "output_submodel_7 = submodel_7(output_submodel_6)\n",
        "output_submodel_8 = submodel_8(output_submodel_7)\n",
        "output_submodel_9 = submodel_9(output_submodel_8)\n",
        "output_submodel_10 = submodel_10(output_submodel_9)\n",
        "output_submodel_11 = submodel_11(output_submodel_10)\n",
        "final_output = submodel_vgg_2(output_submodel_11)"
      ]
    },
    {
      "cell_type": "code",
      "execution_count": 26,
      "metadata": {
        "colab": {
          "base_uri": "https://localhost:8080/"
        },
        "id": "BsSfgFzKWcG5",
        "outputId": "47433f50-8cb9-478f-d653-8f3e7e73f8f8"
      },
      "outputs": [
        {
          "name": "stdout",
          "output_type": "stream",
          "text": [
            "[('Labrador retriever', 86.44473266601562), ('golden retriever', 4.148697853088379), ('Chesapeake Bay retriever', 1.8481857776641846), ('kelpie', 1.4489681720733643), ('redbone', 0.893250584602356)]\n"
          ]
        }
      ],
      "source": [
        "# Sort the predictions.\n",
        "_, indices = torch.sort(final_output, descending=True)\n",
        "\n",
        "# Convert into percentages.\n",
        "percentage = torch.nn.functional.softmax(final_output, dim=1)[0] * 100\n",
        "\n",
        "# Print the 5 most likely predictions.\n",
        "with open(\"result_vgg19.txt\", \"w\") as outfile:\n",
        "    outfile.write(str([(classes[idx], percentage[idx].item()) for idx in indices[0][:5]]))\n",
        "\n",
        "print(open('result_vgg19.txt', 'r').read()) "
      ]
    }
  ],
  "metadata": {
    "colab": {
      "collapsed_sections": [],
      "name": "pyTorchSplit_vgg19_12.ipynb",
      "provenance": []
    },
    "kernelspec": {
      "display_name": "Python 3",
      "name": "python3"
    },
    "language_info": {
      "name": "python"
    }
  },
  "nbformat": 4,
  "nbformat_minor": 0
}
