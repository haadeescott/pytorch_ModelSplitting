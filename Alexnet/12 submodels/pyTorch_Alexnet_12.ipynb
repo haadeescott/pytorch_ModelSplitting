{
  "cells": [
    {
      "cell_type": "code",
      "execution_count": 90,
      "metadata": {
        "id": "mfTlJ0nngU_h"
      },
      "outputs": [],
      "source": [
        "from torchvision import models\n",
        "import torch\n",
        "import os\n",
        "from torch import nn\n",
        "from torch.utils.data import DataLoader\n",
        "from torchvision import datasets, transforms\n",
        "from torchsummary import summary\n",
        "from PIL import Image"
      ]
    },
    {
      "cell_type": "code",
      "execution_count": 91,
      "metadata": {
        "colab": {
          "base_uri": "https://localhost:8080/"
        },
        "id": "VAARAN93hVtK",
        "outputId": "9962413a-aa07-40ef-f514-5fcf3d65b97e"
      },
      "outputs": [
        {
          "name": "stdout",
          "output_type": "stream",
          "text": [
            "AlexNet(\n",
            "  (features): Sequential(\n",
            "    (0): Conv2d(3, 64, kernel_size=(11, 11), stride=(4, 4), padding=(2, 2))\n",
            "    (1): ReLU(inplace=True)\n",
            "    (2): MaxPool2d(kernel_size=3, stride=2, padding=0, dilation=1, ceil_mode=False)\n",
            "    (3): Conv2d(64, 192, kernel_size=(5, 5), stride=(1, 1), padding=(2, 2))\n",
            "    (4): ReLU(inplace=True)\n",
            "    (5): MaxPool2d(kernel_size=3, stride=2, padding=0, dilation=1, ceil_mode=False)\n",
            "    (6): Conv2d(192, 384, kernel_size=(3, 3), stride=(1, 1), padding=(1, 1))\n",
            "    (7): ReLU(inplace=True)\n",
            "    (8): Conv2d(384, 256, kernel_size=(3, 3), stride=(1, 1), padding=(1, 1))\n",
            "    (9): ReLU(inplace=True)\n",
            "    (10): Conv2d(256, 256, kernel_size=(3, 3), stride=(1, 1), padding=(1, 1))\n",
            "    (11): ReLU(inplace=True)\n",
            "    (12): MaxPool2d(kernel_size=3, stride=2, padding=0, dilation=1, ceil_mode=False)\n",
            "  )\n",
            "  (avgpool): AdaptiveAvgPool2d(output_size=(6, 6))\n",
            "  (classifier): Sequential(\n",
            "    (0): Dropout(p=0.5, inplace=False)\n",
            "    (1): Linear(in_features=9216, out_features=4096, bias=True)\n",
            "    (2): ReLU(inplace=True)\n",
            "    (3): Dropout(p=0.5, inplace=False)\n",
            "    (4): Linear(in_features=4096, out_features=4096, bias=True)\n",
            "    (5): ReLU(inplace=True)\n",
            "    (6): Linear(in_features=4096, out_features=1000, bias=True)\n",
            "  )\n",
            ")\n"
          ]
        }
      ],
      "source": [
        "# Load the model from a file\n",
        "alexnet = torch.load(\"alexnet-pretrained.pt\")\n",
        "print(alexnet)"
      ]
    },
    {
      "cell_type": "code",
      "execution_count": 92,
      "metadata": {
        "id": "Qr4QOFFrdMOb"
      },
      "outputs": [],
      "source": [
        "class Flatten(nn.Module):\n",
        "    def __init__(self):\n",
        "        super(Flatten, self).__init__()\n",
        "        \n",
        "    def forward(self, x):\n",
        "        x = x.view(x.size(0), -1)\n",
        "        return x"
      ]
    },
    {
      "cell_type": "code",
      "execution_count": 93,
      "metadata": {
        "colab": {
          "base_uri": "https://localhost:8080/"
        },
        "id": "EDS3xKf68uc_",
        "outputId": "22ac913b-e08c-4e56-98f7-5a8a03d88ab0"
      },
      "outputs": [
        {
          "name": "stdout",
          "output_type": "stream",
          "text": [
            "Sequential(\n",
            "  (0): Sequential(\n",
            "    (0): Conv2d(3, 64, kernel_size=(11, 11), stride=(4, 4), padding=(2, 2))\n",
            "    (1): ReLU(inplace=True)\n",
            "    (2): MaxPool2d(kernel_size=3, stride=2, padding=0, dilation=1, ceil_mode=False)\n",
            "    (3): Conv2d(64, 192, kernel_size=(5, 5), stride=(1, 1), padding=(2, 2))\n",
            "    (4): ReLU(inplace=True)\n",
            "    (5): MaxPool2d(kernel_size=3, stride=2, padding=0, dilation=1, ceil_mode=False)\n",
            "    (6): Conv2d(192, 384, kernel_size=(3, 3), stride=(1, 1), padding=(1, 1))\n",
            "    (7): ReLU(inplace=True)\n",
            "    (8): Conv2d(384, 256, kernel_size=(3, 3), stride=(1, 1), padding=(1, 1))\n",
            "    (9): ReLU(inplace=True)\n",
            "    (10): Conv2d(256, 256, kernel_size=(3, 3), stride=(1, 1), padding=(1, 1))\n",
            "    (11): ReLU(inplace=True)\n",
            "    (12): MaxPool2d(kernel_size=3, stride=2, padding=0, dilation=1, ceil_mode=False)\n",
            "  )\n",
            ")\n"
          ]
        }
      ],
      "source": [
        "# Separate TEST new submodels\n",
        "modules = list(alexnet.children())[:1]\n",
        "Main_Submodel1 = nn.Sequential(*modules)\n",
        "                                  "
      ]
    },
    {
      "cell_type": "code",
      "execution_count": 94,
      "metadata": {
        "id": "PH9bymOhRexa"
      },
      "outputs": [],
      "source": [
        "# iterate over children leaf node\n",
        "for n in Main_Submodel1.children():\n",
        "  submodel_1 = nn.Sequential(n[:1])\n",
        "  submodel_2 = nn.Sequential(n[1:2])\n",
        "  submodel_3 = nn.Sequential(n[2:3])\n",
        "  submodel_4 = nn.Sequential(n[3:4])\n",
        "  submodel_5 = nn.Sequential(n[4:5])\n",
        "  submodel_6 = nn.Sequential(n[5:6])\n",
        "  submodel_7 = nn.Sequential(n[6:7])\n",
        "  submodel_8 = nn.Sequential(n[7:8])\n",
        "  submodel_9 = nn.Sequential(n[8:9])\n",
        "  submodel_10 = nn.Sequential(n[9:10])\n",
        "  submodel_11 = nn.Sequential(n[10:])"
      ]
    },
    {
      "cell_type": "code",
      "execution_count": 95,
      "metadata": {
        "colab": {
          "base_uri": "https://localhost:8080/"
        },
        "id": "4IzuvSC7uO4w",
        "outputId": "0fb43dfa-1dde-41fc-a848-5c7ef0a4873b"
      },
      "outputs": [
        {
          "name": "stdout",
          "output_type": "stream",
          "text": [
            "Sequential(\n",
            "  (0): AdaptiveAvgPool2d(output_size=(6, 6))\n",
            ")\n"
          ]
        }
      ],
      "source": [
        "avgpoolLayer = list(alexnet.children())[1]\n",
        "submodel_avg = nn.Sequential(avgpoolLayer)\n",
        "print(submodel_avg)"
      ]
    },
    {
      "cell_type": "code",
      "execution_count": 96,
      "metadata": {
        "colab": {
          "base_uri": "https://localhost:8080/"
        },
        "id": "0mgkwp1Op6gr",
        "outputId": "c67264a0-64d3-4222-c3c4-ff5cc4f53cff"
      },
      "outputs": [
        {
          "name": "stdout",
          "output_type": "stream",
          "text": [
            "Sequential(\n",
            "  (0): Sequential(\n",
            "    (0): AdaptiveAvgPool2d(output_size=(6, 6))\n",
            "  )\n",
            "  (1): Flatten()\n",
            "  (2): Sequential(\n",
            "    (0): Dropout(p=0.5, inplace=False)\n",
            "    (1): Linear(in_features=9216, out_features=4096, bias=True)\n",
            "    (2): ReLU(inplace=True)\n",
            "    (3): Dropout(p=0.5, inplace=False)\n",
            "    (4): Linear(in_features=4096, out_features=4096, bias=True)\n",
            "    (5): ReLU(inplace=True)\n",
            "    (6): Linear(in_features=4096, out_features=1000, bias=True)\n",
            "  )\n",
            ")\n"
          ]
        }
      ],
      "source": [
        "# create submodels from testsubmodel2 children layers\n",
        "modules = list(alexnet.children())[2:]\n",
        "Main_Submodel2 = nn.Sequential(submodel_avg, Flatten(), *modules)\n",
        "print(Main_Submodel2)"
      ]
    },
    {
      "cell_type": "code",
      "execution_count": 97,
      "metadata": {
        "colab": {
          "base_uri": "https://localhost:8080/"
        },
        "id": "EoBeXem4zScF",
        "outputId": "5ffed12a-7827-453e-b1e1-7b8b6ee64d9f"
      },
      "outputs": [
        {
          "name": "stdout",
          "output_type": "stream",
          "text": [
            "Sequential(\n",
            "  (0): Flatten()\n",
            ")\n"
          ]
        }
      ],
      "source": [
        "# flatten layer\n",
        "submodel_flatten = nn.Sequential(Flatten())\n",
        "print(submodel_flatten)"
      ]
    },
    {
      "cell_type": "code",
      "execution_count": 98,
      "metadata": {
        "id": "YZISmay8hXUH"
      },
      "outputs": [],
      "source": [
        "# Prepare a transform to get the input image into a format (e.g., x,y dimensions) the classifier\n",
        "# expects\n",
        "transform = transforms.Compose([\n",
        "    transforms.Resize(256),\n",
        "    transforms.CenterCrop(224),\n",
        "    transforms.ToTensor(),\n",
        "    transforms.Normalize(\n",
        "    mean=[0.485, 0.456, 0.406],\n",
        "    std=[0.229, 0.224, 0.225]\n",
        ")])\n",
        "\n",
        "img = Image.open(\"input.jpg\")\n",
        "\n",
        "# Apply the transform to the image.\n",
        "img_t = transform(img)\n",
        "\n",
        "# Magic (not sure what this does).\n",
        "batch_t = torch.unsqueeze(img_t, 0)"
      ]
    },
    {
      "cell_type": "code",
      "execution_count": 99,
      "metadata": {
        "id": "K8Odq68pb9Km"
      },
      "outputs": [],
      "source": [
        "torch.save(submodel_1, \"submodel_1.pt\")\n",
        "torch.save(submodel_2, \"submodel_2.pt\")\n",
        "torch.save(submodel_3, \"submodel_3.pt\")\n",
        "torch.save(submodel_4, \"submodel_4.pt\")\n",
        "torch.save(submodel_5, \"submodel_5.pt\")\n",
        "torch.save(submodel_6, \"submodel_6.pt\")\n",
        "torch.save(submodel_7, \"submodel_7.pt\")\n",
        "torch.save(submodel_8, \"submodel_8.pt\")\n",
        "torch.save(submodel_9, \"submodel_9.pt\")\n",
        "torch.save(submodel_10, \"submodel_10.pt\")\n",
        "torch.save(submodel_11, \"submodel_11.pt\")\n",
        "torch.save(Main_Submodel2, \"Main_Submodel2.pt\")"
      ]
    },
    {
      "cell_type": "code",
      "execution_count": 100,
      "metadata": {
        "colab": {
          "base_uri": "https://localhost:8080/"
        },
        "id": "aJ338rPZaNGE",
        "outputId": "d0e9765d-6fb6-45fb-9cd7-ab41b748b7d0"
      },
      "outputs": [
        {
          "data": {
            "text/plain": [
              "Sequential(\n",
              "  (0): Sequential(\n",
              "    (0): AdaptiveAvgPool2d(output_size=(6, 6))\n",
              "  )\n",
              "  (1): Flatten()\n",
              "  (2): Sequential(\n",
              "    (0): Dropout(p=0.5, inplace=False)\n",
              "    (1): Linear(in_features=9216, out_features=4096, bias=True)\n",
              "    (2): ReLU(inplace=True)\n",
              "    (3): Dropout(p=0.5, inplace=False)\n",
              "    (4): Linear(in_features=4096, out_features=4096, bias=True)\n",
              "    (5): ReLU(inplace=True)\n",
              "    (6): Linear(in_features=4096, out_features=1000, bias=True)\n",
              "  )\n",
              ")"
            ]
          },
          "execution_count": 100,
          "metadata": {},
          "output_type": "execute_result"
        }
      ],
      "source": [
        "submodel_1.eval()\n",
        "submodel_2.eval()\n",
        "submodel_3.eval()\n",
        "submodel_4.eval()\n",
        "submodel_5.eval()\n",
        "submodel_6.eval()\n",
        "submodel_7.eval()\n",
        "submodel_8.eval()\n",
        "submodel_9.eval()\n",
        "submodel_10.eval()\n",
        "submodel_11.eval()\n",
        "Main_Submodel2.eval()"
      ]
    },
    {
      "cell_type": "code",
      "execution_count": 101,
      "metadata": {
        "id": "L3KiFdXFXMoK"
      },
      "outputs": [],
      "source": [
        "output_submodel_1 = submodel_1(batch_t)\n",
        "output_submodel_2 = submodel_2(output_submodel_1)\n",
        "output_submodel_3 = submodel_3(output_submodel_2)\n",
        "output_submodel_4 = submodel_4(output_submodel_3)\n",
        "output_submodel_5 = submodel_5(output_submodel_4)\n",
        "output_submodel_6 = submodel_6(output_submodel_5)\n",
        "output_submodel_7 = submodel_7(output_submodel_6)\n",
        "output_submodel_8 = submodel_8(output_submodel_7)\n",
        "output_submodel_9 = submodel_9(output_submodel_8)\n",
        "output_submodel_10 = submodel_10(output_submodel_9)\n",
        "output_submodel_11 = submodel_11(output_submodel_10)\n",
        "outputFinal = Main_Submodel2(output_submodel_11)"
      ]
    },
    {
      "cell_type": "code",
      "execution_count": 102,
      "metadata": {
        "colab": {
          "base_uri": "https://localhost:8080/"
        },
        "id": "3SJHOzD7hg6D",
        "outputId": "a31fb7fa-7feb-4360-f61b-8fcca1aca8c8"
      },
      "outputs": [
        {
          "name": "stdout",
          "output_type": "stream",
          "text": [
            "[('Labrador retriever', 41.58519744873047), ('golden retriever', 16.591642379760742), ('Saluki, gazelle hound', 16.28689193725586), ('whippet', 2.853909969329834), ('Ibizan hound, Ibizan Podenco', 2.3924717903137207)]\n"
          ]
        }
      ],
      "source": [
        "# Load the classes from disk.\n",
        "with open('classes.txt') as f:\n",
        "    classes = [line.strip() for line in f.readlines()]\n",
        "\n",
        "# Sort the predictions.\n",
        "_, indices = torch.sort(outputFinal, descending=True)\n",
        "\n",
        "# Convert into percentages.\n",
        "percentage = torch.nn.functional.softmax(outputFinal, dim=1)[0] * 100\n",
        "\n",
        "# Print the 5 most likely predictions.\n",
        "with open(\"result_Alexnet_12.txt\", \"w\") as outfile:\n",
        "    outfile.write(str([(classes[idx], percentage[idx].item()) for idx in indices[0][:5]]))\n",
        "\n",
        "print(open('result_Alexnet_12.txt', 'r').read()) "
      ]
    }
  ],
  "metadata": {
    "colab": {
      "collapsed_sections": [],
      "name": "pyTorch_Alexnet_12.ipynb",
      "provenance": []
    },
    "kernelspec": {
      "display_name": "Python 3",
      "name": "python3"
    },
    "language_info": {
      "name": "python"
    }
  },
  "nbformat": 4,
  "nbformat_minor": 0
}
