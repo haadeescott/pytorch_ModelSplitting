{
  "cells": [
    {
      "cell_type": "code",
      "execution_count": 2,
      "metadata": {
        "id": "mfTlJ0nngU_h"
      },
      "outputs": [],
      "source": [
        "from torchvision import models\n",
        "import torch\n",
        "import os\n",
        "from torch import nn\n",
        "from torch.utils.data import DataLoader\n",
        "from torchvision import datasets, transforms\n",
        "from torchsummary import summary\n",
        "from PIL import Image"
      ]
    },
    {
      "cell_type": "code",
      "execution_count": null,
      "metadata": {
        "colab": {
          "base_uri": "https://localhost:8080/"
        },
        "id": "VAARAN93hVtK",
        "outputId": "9007dd51-f672-49e3-8254-799875bf060a"
      },
      "outputs": [],
      "source": [
        "# Load the model from a file\n",
        "squeezenet = torch.load(\"squeezenet.pt\")\n",
        "print(squeezenet)"
      ]
    },
    {
      "cell_type": "code",
      "execution_count": 4,
      "metadata": {
        "id": "YZISmay8hXUH"
      },
      "outputs": [],
      "source": [
        "# Prepare a transform to get the input image into a format (e.g., x,y dimensions) the classifier\n",
        "# expects\n",
        "transform = transforms.Compose([\n",
        "    transforms.Resize(256),\n",
        "    transforms.CenterCrop(224),\n",
        "    transforms.ToTensor(),\n",
        "    transforms.Normalize(\n",
        "    mean=[0.485, 0.456, 0.406],\n",
        "    std=[0.229, 0.224, 0.225]\n",
        ")])\n",
        "\n",
        "img = Image.open(\"input.jpg\")\n",
        "\n",
        "# Apply the transform to the image.\n",
        "img_t = transform(img)\n",
        "\n",
        "# Magic (not sure what this does).\n",
        "batch_t = torch.unsqueeze(img_t, 0)"
      ]
    },
    {
      "cell_type": "code",
      "execution_count": null,
      "metadata": {
        "colab": {
          "base_uri": "https://localhost:8080/"
        },
        "id": "aJ338rPZaNGE",
        "outputId": "e0ba5d62-b6b8-4906-8a7b-f1686afa4710"
      },
      "outputs": [],
      "source": [
        "squeezenet.eval()"
      ]
    },
    {
      "cell_type": "code",
      "execution_count": 6,
      "metadata": {
        "id": "L3KiFdXFXMoK"
      },
      "outputs": [],
      "source": [
        "outputFinal = squeezenet(batch_t)"
      ]
    },
    {
      "cell_type": "code",
      "execution_count": null,
      "metadata": {
        "colab": {
          "base_uri": "https://localhost:8080/"
        },
        "id": "3SJHOzD7hg6D",
        "outputId": "74aafffb-e1bc-46f6-fd5a-7498402399d7"
      },
      "outputs": [],
      "source": [
        "# Load the classes from disk.\n",
        "with open('classes.txt') as f:\n",
        "    classes = [line.strip() for line in f.readlines()]\n",
        "\n",
        "# Sort the predictions.\n",
        "_, indices = torch.sort(outputFinal, descending=True)\n",
        "\n",
        "# Convert into percentages.\n",
        "percentage = torch.nn.functional.softmax(outputFinal, dim=1)[0] * 100\n",
        "\n",
        "# Print the 5 most likely predictions.\n",
        "with open(\"result_squeezenet.txt\", \"w\") as outfile:\n",
        "    outfile.write(str([(classes[idx], percentage[idx].item()) for idx in indices[0][:5]]))\n",
        "\n",
        "print(open('result_squeezenet.txt', 'r').read()) "
      ]
    }
  ],
  "metadata": {
    "colab": {
      "collapsed_sections": [],
      "name": "pyTorchSplit_MobilenetV3_small.ipynb",
      "provenance": []
    },
    "kernelspec": {
      "display_name": "Python 3",
      "name": "python3"
    },
    "language_info": {
      "name": "python"
    }
  },
  "nbformat": 4,
  "nbformat_minor": 0
}
