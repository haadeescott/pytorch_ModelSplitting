{
  "cells": [
    {
      "cell_type": "code",
      "execution_count": 65,
      "metadata": {
        "id": "HT3mL9hcCKIo"
      },
      "outputs": [],
      "source": [
        "from torchvision import models\n",
        "import torch\n",
        "import os\n",
        "from torch import nn\n",
        "from torch.utils.data import DataLoader\n",
        "from torchvision import datasets, transforms\n",
        "from torchsummary import summary\n",
        "from PIL import Image"
      ]
    },
    {
      "cell_type": "code",
      "execution_count": 66,
      "metadata": {
        "colab": {
          "base_uri": "https://localhost:8080/"
        },
        "id": "CKtqo5sQEyw0",
        "outputId": "c096e4c6-22c4-4483-f079-2bebb00aa8d0"
      },
      "outputs": [
        {
          "name": "stdout",
          "output_type": "stream",
          "text": [
            "VGG(\n",
            "  (features): Sequential(\n",
            "    (0): Conv2d(3, 64, kernel_size=(3, 3), stride=(1, 1), padding=(1, 1))\n",
            "    (1): ReLU(inplace=True)\n",
            "    (2): Conv2d(64, 64, kernel_size=(3, 3), stride=(1, 1), padding=(1, 1))\n",
            "    (3): ReLU(inplace=True)\n",
            "    (4): MaxPool2d(kernel_size=2, stride=2, padding=0, dilation=1, ceil_mode=False)\n",
            "    (5): Conv2d(64, 128, kernel_size=(3, 3), stride=(1, 1), padding=(1, 1))\n",
            "    (6): ReLU(inplace=True)\n",
            "    (7): Conv2d(128, 128, kernel_size=(3, 3), stride=(1, 1), padding=(1, 1))\n",
            "    (8): ReLU(inplace=True)\n",
            "    (9): MaxPool2d(kernel_size=2, stride=2, padding=0, dilation=1, ceil_mode=False)\n",
            "    (10): Conv2d(128, 256, kernel_size=(3, 3), stride=(1, 1), padding=(1, 1))\n",
            "    (11): ReLU(inplace=True)\n",
            "    (12): Conv2d(256, 256, kernel_size=(3, 3), stride=(1, 1), padding=(1, 1))\n",
            "    (13): ReLU(inplace=True)\n",
            "    (14): Conv2d(256, 256, kernel_size=(3, 3), stride=(1, 1), padding=(1, 1))\n",
            "    (15): ReLU(inplace=True)\n",
            "    (16): MaxPool2d(kernel_size=2, stride=2, padding=0, dilation=1, ceil_mode=False)\n",
            "    (17): Conv2d(256, 512, kernel_size=(3, 3), stride=(1, 1), padding=(1, 1))\n",
            "    (18): ReLU(inplace=True)\n",
            "    (19): Conv2d(512, 512, kernel_size=(3, 3), stride=(1, 1), padding=(1, 1))\n",
            "    (20): ReLU(inplace=True)\n",
            "    (21): Conv2d(512, 512, kernel_size=(3, 3), stride=(1, 1), padding=(1, 1))\n",
            "    (22): ReLU(inplace=True)\n",
            "    (23): MaxPool2d(kernel_size=2, stride=2, padding=0, dilation=1, ceil_mode=False)\n",
            "    (24): Conv2d(512, 512, kernel_size=(3, 3), stride=(1, 1), padding=(1, 1))\n",
            "    (25): ReLU(inplace=True)\n",
            "    (26): Conv2d(512, 512, kernel_size=(3, 3), stride=(1, 1), padding=(1, 1))\n",
            "    (27): ReLU(inplace=True)\n",
            "    (28): Conv2d(512, 512, kernel_size=(3, 3), stride=(1, 1), padding=(1, 1))\n",
            "    (29): ReLU(inplace=True)\n",
            "    (30): MaxPool2d(kernel_size=2, stride=2, padding=0, dilation=1, ceil_mode=False)\n",
            "  )\n",
            "  (avgpool): AdaptiveAvgPool2d(output_size=(7, 7))\n",
            "  (classifier): Sequential(\n",
            "    (0): Linear(in_features=25088, out_features=4096, bias=True)\n",
            "    (1): ReLU(inplace=True)\n",
            "    (2): Dropout(p=0.5, inplace=False)\n",
            "    (3): Linear(in_features=4096, out_features=4096, bias=True)\n",
            "    (4): ReLU(inplace=True)\n",
            "    (5): Dropout(p=0.5, inplace=False)\n",
            "    (6): Linear(in_features=4096, out_features=1000, bias=True)\n",
            "  )\n",
            ")\n"
          ]
        }
      ],
      "source": [
        "# Load model dataset\n",
        "vgg16 = torch.load(\"vgg16.pt\")\n",
        "print(vgg16)"
      ]
    },
    {
      "cell_type": "code",
      "execution_count": 67,
      "metadata": {
        "id": "iRQ6HaekFN6N"
      },
      "outputs": [],
      "source": [
        "class Flatten(nn.Module):\n",
        "    def __init__(self):\n",
        "        super(Flatten, self).__init__()\n",
        "        \n",
        "    def forward(self, x):\n",
        "        x = x.view(x.size(0), -1)\n",
        "        return x"
      ]
    },
    {
      "cell_type": "code",
      "execution_count": 68,
      "metadata": {
        "id": "pCDtm4h3GTum"
      },
      "outputs": [],
      "source": [
        "# creates a flatten layer to feed the output of the avg pool mod to the Linear mod\n",
        "submodel_flatten = nn.Sequential(Flatten())"
      ]
    },
    {
      "cell_type": "code",
      "execution_count": 69,
      "metadata": {
        "id": "0ZT63YqKFoaV"
      },
      "outputs": [],
      "source": [
        "submodel_vgg_1 = list(vgg16.children())[:1]\n",
        "submodel_vgg_1 = nn.Sequential(*submodel_vgg_1)"
      ]
    },
    {
      "cell_type": "code",
      "execution_count": 70,
      "metadata": {
        "id": "FSYxTwZcJaRu"
      },
      "outputs": [],
      "source": [
        "for n in submodel_vgg_1.children():\n",
        "  submodel_1 = nn.Sequential(n[:6])\n",
        "  submodel_2 = nn.Sequential(n[6:9])\n",
        "  submodel_3 = nn.Sequential(n[9:12])\n",
        "  submodel_4 = nn.Sequential(n[12:15])\n",
        "  submodel_5 = nn.Sequential(n[15:18])\n",
        "  submodel_6 = nn.Sequential(n[18:21])\n",
        "  submodel_7 = nn.Sequential(n[21:24])\n",
        "  submodel_8 = nn.Sequential(n[24:27])\n",
        "  submodel_9 = nn.Sequential(n[27:30])\n",
        "  submodel_10 = nn.Sequential(n[30:])\n"
      ]
    },
    {
      "cell_type": "code",
      "execution_count": 71,
      "metadata": {
        "id": "d_wAaJTmJKBV"
      },
      "outputs": [],
      "source": [
        "# extracts the avgpool layer\n",
        "submodel_avgpool = list(vgg16.children())[1:2]\n",
        "submodel_avgpool = nn.Sequential(*submodel_avgpool)"
      ]
    },
    {
      "cell_type": "code",
      "execution_count": 72,
      "metadata": {
        "colab": {
          "base_uri": "https://localhost:8080/"
        },
        "id": "mWSSn-6VGAaG",
        "outputId": "6490160f-b723-4507-9f2a-4664819bedd5"
      },
      "outputs": [
        {
          "name": "stdout",
          "output_type": "stream",
          "text": [
            "Sequential(\n",
            "  (0): Sequential(\n",
            "    (0): Flatten()\n",
            "  )\n",
            "  (1): Sequential(\n",
            "    (0): Linear(in_features=25088, out_features=4096, bias=True)\n",
            "    (1): ReLU(inplace=True)\n",
            "    (2): Dropout(p=0.5, inplace=False)\n",
            "    (3): Linear(in_features=4096, out_features=4096, bias=True)\n",
            "    (4): ReLU(inplace=True)\n",
            "    (5): Dropout(p=0.5, inplace=False)\n",
            "    (6): Linear(in_features=4096, out_features=1000, bias=True)\n",
            "  )\n",
            ")\n"
          ]
        }
      ],
      "source": [
        "submodel_vgg_2 = list(vgg16.children())[2:]\n",
        "submodel_vgg_2 = nn.Sequential(submodel_flatten, *submodel_vgg_2)\n",
        "print(submodel_vgg_2)"
      ]
    },
    {
      "cell_type": "code",
      "execution_count": null,
      "metadata": {
        "id": "W58UauaKGoBL"
      },
      "outputs": [],
      "source": [
        "torch.save(submodel_1, \"submodel_1.pt\")\n",
        "torch.save(submodel_2, \"submodel_2.pt\")\n",
        "torch.save(submodel_3, \"submodel_3.pt\")\n",
        "torch.save(submodel_4, \"submodel_4.pt\")\n",
        "torch.save(submodel_5, \"submodel_5.pt\")\n",
        "torch.save(submodel_6, \"submodel_6.pt\")\n",
        "torch.save(submodel_7, \"submodel_7.pt\")\n",
        "torch.save(submodel_8, \"submodel_8.pt\")\n",
        "torch.save(submodel_9, \"submodel_9.pt\")\n",
        "torch.save(submodel_10, \"submodel_10.pt\")\n",
        "torch.save(submodel_avgpool, \"submodel_avgpool.pt\")\n",
        "torch.save(submodel_vgg_2, \"submodel_vgg_2.pt\")"
      ]
    },
    {
      "cell_type": "code",
      "execution_count": null,
      "metadata": {
        "id": "2AXITROzFOWN"
      },
      "outputs": [],
      "source": [
        "# Prepare a transform to get the input image into a format (e.g., x,y dimensions) the classifier expects\n",
        "transform = transforms.Compose([\n",
        "    transforms.Resize(256),\n",
        "    transforms.CenterCrop(224),\n",
        "    transforms.ToTensor(),\n",
        "    transforms.Normalize(\n",
        "    mean=[0.485, 0.456, 0.406],\n",
        "    std=[0.229, 0.224, 0.225]\n",
        ")])\n",
        "\n",
        "img = Image.open(\"input.jpg\")\n",
        "\n",
        "# Apply the transform to the image.\n",
        "img_t = transform(img)\n",
        "batch_t = torch.unsqueeze(img_t, 0)\n",
        "\n",
        "with open(\"classes.txt\") as f:\n",
        "    classes = [line.strip() for line in f.readlines()]"
      ]
    },
    {
      "cell_type": "code",
      "execution_count": null,
      "metadata": {
        "id": "ZZ7wap2TFRjb"
      },
      "outputs": [],
      "source": [
        "# vgg16.eval()\n",
        "submodel_1.eval()\n",
        "submodel_2.eval()\n",
        "submodel_3.eval()\n",
        "submodel_4.eval()\n",
        "submodel_5.eval()\n",
        "submodel_6.eval()\n",
        "submodel_7.eval()\n",
        "submodel_8.eval()\n",
        "submodel_9.eval()\n",
        "submodel_10.eval()\n",
        "submodel_avgpool.eval()\n",
        "submodel_vgg_2.eval()"
      ]
    },
    {
      "cell_type": "code",
      "execution_count": null,
      "metadata": {
        "id": "83oVeMwsFU7-"
      },
      "outputs": [],
      "source": [
        "# final_output = vgg16(batch_t)\n",
        "output_submodel_1 = submodel_1(batch_t)\n",
        "output_submodel_2 = submodel_2(output_submodel_1)\n",
        "output_submodel_3 = submodel_3(output_submodel_2)\n",
        "output_submodel_4 = submodel_4(output_submodel_3)\n",
        "output_submodel_5 = submodel_5(output_submodel_4)\n",
        "output_submodel_6 = submodel_6(output_submodel_5)\n",
        "output_submodel_7 = submodel_7(output_submodel_6)\n",
        "output_submodel_8 = submodel_8(output_submodel_7)\n",
        "output_submodel_9 = submodel_9(output_submodel_8)\n",
        "output_submodel_10 = submodel_10(output_submodel_9)\n",
        "output_submodel_avgpool = submodel_avgpool(output_submodel_10)\n",
        "final_output = submodel_vgg_2(output_submodel_avgpool)"
      ]
    },
    {
      "cell_type": "code",
      "execution_count": null,
      "metadata": {
        "id": "Cpj1A5WwFazW"
      },
      "outputs": [],
      "source": [
        "# Sort the predictions.\n",
        "_, indices = torch.sort(final_output, descending=True)\n",
        "\n",
        "# Convert into percentages.\n",
        "percentage = torch.nn.functional.softmax(final_output, dim=1)[0] * 100\n",
        "\n",
        "# Print the 5 most likely predictions.\n",
        "with open(\"result_vgg16.txt\", \"w\") as outfile:\n",
        "    outfile.write(str([(classes[idx], percentage[idx].item()) for idx in indices[0][:5]]))\n",
        "\n",
        "print(open('result_vgg16.txt', 'r').read()) "
      ]
    }
  ],
  "metadata": {
    "colab": {
      "collapsed_sections": [],
      "name": "pyTorchSplit_vgg_12.ipynb",
      "provenance": []
    },
    "kernelspec": {
      "display_name": "Python 3",
      "name": "python3"
    },
    "language_info": {
      "name": "python"
    }
  },
  "nbformat": 4,
  "nbformat_minor": 0
}
